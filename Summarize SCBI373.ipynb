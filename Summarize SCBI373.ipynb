{
 "cells": [
  {
   "cell_type": "code",
   "execution_count": 1,
   "metadata": {},
   "outputs": [],
   "source": [
    "import pandas"
   ]
  },
  {
   "cell_type": "code",
   "execution_count": 6,
   "metadata": {},
   "outputs": [
    {
     "name": "stderr",
     "output_type": "stream",
     "text": [
      "C:\\Users\\HoffordC\\AppData\\Local\\Continuum\\anaconda3\\lib\\site-packages\\pandas\\io\\clipboards.py:63: ParserWarning: Falling back to the 'python' engine because the 'c' engine does not support regex separators (separators > 1 char and different from '\\s+' are interpreted as regex); you can avoid this warning by specifying engine='python'.\n",
      "  return read_table(StringIO(text), sep=sep, **kwargs)\n"
     ]
    }
   ],
   "source": [
    "deps = pandas.read_clipboard()\n",
    "deps = deps[deps['Deployment Name'] == 'SCBI373']"
   ]
  },
  {
   "cell_type": "code",
   "execution_count": 10,
   "metadata": {},
   "outputs": [
    {
     "data": {
      "text/html": [
       "<div>\n",
       "<style scoped>\n",
       "    .dataframe tbody tr th:only-of-type {\n",
       "        vertical-align: middle;\n",
       "    }\n",
       "\n",
       "    .dataframe tbody tr th {\n",
       "        vertical-align: top;\n",
       "    }\n",
       "\n",
       "    .dataframe thead th {\n",
       "        text-align: right;\n",
       "    }\n",
       "</style>\n",
       "<table border=\"1\" class=\"dataframe\">\n",
       "  <thead>\n",
       "    <tr style=\"text-align: right;\">\n",
       "      <th></th>\n",
       "      <th>Project</th>\n",
       "      <th>Subproject</th>\n",
       "      <th>Treatment</th>\n",
       "      <th>Deployment Name</th>\n",
       "      <th>ID Type</th>\n",
       "      <th>Deploy ID</th>\n",
       "      <th>Sequence ID</th>\n",
       "      <th>Begin Time</th>\n",
       "      <th>End Time</th>\n",
       "      <th>Species Name</th>\n",
       "      <th>Common Name</th>\n",
       "      <th>Age</th>\n",
       "      <th>Sex</th>\n",
       "      <th>Individual</th>\n",
       "      <th>Count</th>\n",
       "      <th>Actual Lat</th>\n",
       "      <th>Actual Lon</th>\n",
       "      <th>Fuzzed</th>\n",
       "    </tr>\n",
       "  </thead>\n",
       "  <tbody>\n",
       "    <tr>\n",
       "      <th>0</th>\n",
       "      <td>Smithsonian BioAcoustic Monitoring Project</td>\n",
       "      <td>SCBI Bioacoustic</td>\n",
       "      <td>NaN</td>\n",
       "      <td>SCBI373</td>\n",
       "      <td>Researcher</td>\n",
       "      <td>d19946</td>\n",
       "      <td>d19946s1</td>\n",
       "      <td>2016-05-26T09:21:21</td>\n",
       "      <td>2016-05-26T09:22:12</td>\n",
       "      <td>Camera Trapper</td>\n",
       "      <td>Camera Trapper</td>\n",
       "      <td>Unknown</td>\n",
       "      <td>Unknown</td>\n",
       "      <td>NaN</td>\n",
       "      <td>1</td>\n",
       "      <td>38.88796</td>\n",
       "      <td>-78.1223</td>\n",
       "      <td>False</td>\n",
       "    </tr>\n",
       "    <tr>\n",
       "      <th>1</th>\n",
       "      <td>Smithsonian BioAcoustic Monitoring Project</td>\n",
       "      <td>SCBI Bioacoustic</td>\n",
       "      <td>NaN</td>\n",
       "      <td>SCBI373</td>\n",
       "      <td>Researcher</td>\n",
       "      <td>d19946</td>\n",
       "      <td>d19946s10</td>\n",
       "      <td>2016-05-27T14:25:11</td>\n",
       "      <td>2016-05-27T14:25:20</td>\n",
       "      <td>No Animal</td>\n",
       "      <td>No Animal</td>\n",
       "      <td>Unknown</td>\n",
       "      <td>Unknown</td>\n",
       "      <td>NaN</td>\n",
       "      <td>1</td>\n",
       "      <td>38.88796</td>\n",
       "      <td>-78.1223</td>\n",
       "      <td>False</td>\n",
       "    </tr>\n",
       "    <tr>\n",
       "      <th>2</th>\n",
       "      <td>Smithsonian BioAcoustic Monitoring Project</td>\n",
       "      <td>SCBI Bioacoustic</td>\n",
       "      <td>NaN</td>\n",
       "      <td>SCBI373</td>\n",
       "      <td>Researcher</td>\n",
       "      <td>d19946</td>\n",
       "      <td>d19946s11</td>\n",
       "      <td>2016-05-27T14:30:15</td>\n",
       "      <td>2016-05-27T14:30:24</td>\n",
       "      <td>No Animal</td>\n",
       "      <td>No Animal</td>\n",
       "      <td>Unknown</td>\n",
       "      <td>Unknown</td>\n",
       "      <td>NaN</td>\n",
       "      <td>1</td>\n",
       "      <td>38.88796</td>\n",
       "      <td>-78.1223</td>\n",
       "      <td>False</td>\n",
       "    </tr>\n",
       "    <tr>\n",
       "      <th>3</th>\n",
       "      <td>Smithsonian BioAcoustic Monitoring Project</td>\n",
       "      <td>SCBI Bioacoustic</td>\n",
       "      <td>NaN</td>\n",
       "      <td>SCBI373</td>\n",
       "      <td>Researcher</td>\n",
       "      <td>d19946</td>\n",
       "      <td>d19946s12</td>\n",
       "      <td>2016-05-27T14:33:52</td>\n",
       "      <td>2016-05-27T14:35:07</td>\n",
       "      <td>No Animal</td>\n",
       "      <td>No Animal</td>\n",
       "      <td>Unknown</td>\n",
       "      <td>Unknown</td>\n",
       "      <td>NaN</td>\n",
       "      <td>1</td>\n",
       "      <td>38.88796</td>\n",
       "      <td>-78.1223</td>\n",
       "      <td>False</td>\n",
       "    </tr>\n",
       "    <tr>\n",
       "      <th>4</th>\n",
       "      <td>Smithsonian BioAcoustic Monitoring Project</td>\n",
       "      <td>SCBI Bioacoustic</td>\n",
       "      <td>NaN</td>\n",
       "      <td>SCBI373</td>\n",
       "      <td>Researcher</td>\n",
       "      <td>d19946</td>\n",
       "      <td>d19946s13</td>\n",
       "      <td>2016-05-27T14:40:03</td>\n",
       "      <td>2016-05-27T14:40:11</td>\n",
       "      <td>No Animal</td>\n",
       "      <td>No Animal</td>\n",
       "      <td>Unknown</td>\n",
       "      <td>Unknown</td>\n",
       "      <td>NaN</td>\n",
       "      <td>1</td>\n",
       "      <td>38.88796</td>\n",
       "      <td>-78.1223</td>\n",
       "      <td>False</td>\n",
       "    </tr>\n",
       "  </tbody>\n",
       "</table>\n",
       "</div>"
      ],
      "text/plain": [
       "                                      Project        Subproject  Treatment  \\\n",
       "0  Smithsonian BioAcoustic Monitoring Project  SCBI Bioacoustic        NaN   \n",
       "1  Smithsonian BioAcoustic Monitoring Project  SCBI Bioacoustic        NaN   \n",
       "2  Smithsonian BioAcoustic Monitoring Project  SCBI Bioacoustic        NaN   \n",
       "3  Smithsonian BioAcoustic Monitoring Project  SCBI Bioacoustic        NaN   \n",
       "4  Smithsonian BioAcoustic Monitoring Project  SCBI Bioacoustic        NaN   \n",
       "\n",
       "  Deployment Name     ID Type Deploy ID Sequence ID           Begin Time  \\\n",
       "0         SCBI373  Researcher    d19946    d19946s1  2016-05-26T09:21:21   \n",
       "1         SCBI373  Researcher    d19946   d19946s10  2016-05-27T14:25:11   \n",
       "2         SCBI373  Researcher    d19946   d19946s11  2016-05-27T14:30:15   \n",
       "3         SCBI373  Researcher    d19946   d19946s12  2016-05-27T14:33:52   \n",
       "4         SCBI373  Researcher    d19946   d19946s13  2016-05-27T14:40:03   \n",
       "\n",
       "              End Time    Species Name     Common Name      Age      Sex  \\\n",
       "0  2016-05-26T09:22:12  Camera Trapper  Camera Trapper  Unknown  Unknown   \n",
       "1  2016-05-27T14:25:20       No Animal       No Animal  Unknown  Unknown   \n",
       "2  2016-05-27T14:30:24       No Animal       No Animal  Unknown  Unknown   \n",
       "3  2016-05-27T14:35:07       No Animal       No Animal  Unknown  Unknown   \n",
       "4  2016-05-27T14:40:11       No Animal       No Animal  Unknown  Unknown   \n",
       "\n",
       "   Individual  Count  Actual Lat  Actual Lon  Fuzzed  \n",
       "0         NaN      1    38.88796    -78.1223   False  \n",
       "1         NaN      1    38.88796    -78.1223   False  \n",
       "2         NaN      1    38.88796    -78.1223   False  \n",
       "3         NaN      1    38.88796    -78.1223   False  \n",
       "4         NaN      1    38.88796    -78.1223   False  "
      ]
     },
     "execution_count": 10,
     "metadata": {},
     "output_type": "execute_result"
    }
   ],
   "source": [
    "deps.head()"
   ]
  },
  {
   "cell_type": "code",
   "execution_count": 15,
   "metadata": {},
   "outputs": [],
   "source": [
    "deps['Species Name'] = deps['Species Name'].astype('category')"
   ]
  },
  {
   "cell_type": "code",
   "execution_count": 33,
   "metadata": {},
   "outputs": [
    {
     "data": {
      "text/plain": [
       "<matplotlib.axes._subplots.AxesSubplot at 0x9038c18>"
      ]
     },
     "execution_count": 33,
     "metadata": {},
     "output_type": "execute_result"
    },
    {
     "data": {
      "image/png": "[encoded data removed]",
      "text/plain": [
       "<Figure size 432x288 with 1 Axes>"
      ]
     },
     "metadata": {},
     "output_type": "display_data"
    }
   ],
   "source": [
    "(deps['Common Name'].value_counts()/len(deps)).plot(kind='pie')"
   ]
  },
  {
   "cell_type": "code",
   "execution_count": 25,
   "metadata": {
    "scrolled": true
   },
   "outputs": [
    {
     "data": {
      "text/plain": [
       "51"
      ]
     },
     "execution_count": 25,
     "metadata": {},
     "output_type": "execute_result"
    }
   ],
   "source": [
    "len(deps)"
   ]
  },
  {
   "cell_type": "code",
   "execution_count": 38,
   "metadata": {},
   "outputs": [
    {
     "name": "stdout",
     "output_type": "stream",
     "text": [
      "Subaru\n",
      "cat\n"
     ]
    }
   ],
   "source": [
    "for key, value in {'car':'Subaru','pet':'cat'}.items():\n",
    "    print(value)"
   ]
  }
 ],
 "metadata": {
  "kernelspec": {
   "display_name": "Python 3",
   "language": "python",
   "name": "python3"
  },
  "language_info": {
   "codemirror_mode": {
    "name": "ipython",
    "version": 3
   },
   "file_extension": ".py",
   "mimetype": "text/x-python",
   "name": "python",
   "nbconvert_exporter": "python",
   "pygments_lexer": "ipython3",
   "version": "3.6.5"
  }
 },
 "nbformat": 4,
 "nbformat_minor": 2
}
