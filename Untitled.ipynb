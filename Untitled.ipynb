{
 "cells": [
  {
   "cell_type": "code",
   "execution_count": 12,
   "metadata": {},
   "outputs": [],
   "source": [
    "import os\n",
    "import sys"
   ]
  },
  {
   "cell_type": "code",
   "execution_count": 5,
   "metadata": {
    "scrolled": true
   },
   "outputs": [
    {
     "data": {
      "text/plain": [
       "['',\n",
       " 'C:\\\\Users\\\\HoffordC\\\\AppData\\\\Local\\\\Continuum\\\\anaconda3\\\\envs\\\\ArcPy\\\\python27.zip',\n",
       " 'C:\\\\Users\\\\HoffordC\\\\AppData\\\\Local\\\\Continuum\\\\anaconda3\\\\envs\\\\ArcPy\\\\DLLs',\n",
       " 'C:\\\\Users\\\\HoffordC\\\\AppData\\\\Local\\\\Continuum\\\\anaconda3\\\\envs\\\\ArcPy\\\\lib',\n",
       " 'C:\\\\Users\\\\HoffordC\\\\AppData\\\\Local\\\\Continuum\\\\anaconda3\\\\envs\\\\ArcPy\\\\lib\\\\plat-win',\n",
       " 'C:\\\\Users\\\\HoffordC\\\\AppData\\\\Local\\\\Continuum\\\\anaconda3\\\\envs\\\\ArcPy\\\\lib\\\\lib-tk',\n",
       " 'C:\\\\Users\\\\HoffordC\\\\AppData\\\\Local\\\\Continuum\\\\anaconda3\\\\envs\\\\ArcPy',\n",
       " 'C:\\\\Users\\\\HoffordC\\\\AppData\\\\Local\\\\Continuum\\\\anaconda3\\\\envs\\\\ArcPy\\\\lib\\\\site-packages',\n",
       " 'C:\\\\Users\\\\HoffordC\\\\AppData\\\\Local\\\\Continuum\\\\anaconda3\\\\envs\\\\ArcPy\\\\lib\\\\site-packages\\\\win32',\n",
       " 'C:\\\\Users\\\\HoffordC\\\\AppData\\\\Local\\\\Continuum\\\\anaconda3\\\\envs\\\\ArcPy\\\\lib\\\\site-packages\\\\win32\\\\lib',\n",
       " 'C:\\\\Users\\\\HoffordC\\\\AppData\\\\Local\\\\Continuum\\\\anaconda3\\\\envs\\\\ArcPy\\\\lib\\\\site-packages\\\\Pythonwin',\n",
       " 'C:\\\\Users\\\\HoffordC\\\\AppData\\\\Local\\\\Continuum\\\\anaconda3\\\\envs\\\\ArcPy\\\\lib\\\\site-packages\\\\IPython\\\\extensions',\n",
       " 'C:\\\\Users\\\\HoffordC\\\\.ipython']"
      ]
     },
     "execution_count": 5,
     "metadata": {},
     "output_type": "execute_result"
    }
   ],
   "source": [
    "sys.path"
   ]
  },
  {
   "cell_type": "code",
   "execution_count": 22,
   "metadata": {},
   "outputs": [],
   "source": [
    "os.chdir(\"V:\")"
   ]
  },
  {
   "cell_type": "code",
   "execution_count": 23,
   "metadata": {},
   "outputs": [],
   "source": [
    "import summarize_folder"
   ]
  },
  {
   "cell_type": "code",
   "execution_count": 34,
   "metadata": {},
   "outputs": [
    {
     "name": "stdout",
     "output_type": "stream",
     "text": [
      "./Lovely, Deer\\2011 CWD Project\\Ben GIS Work\\Attempt1.mxd\n",
      "./Lovely, Deer\\2011 CWD Project\\Ben GIS Work\\Fred Map DragonBEN  EDIT.mxd\n",
      "./Lovely, Deer\\2011 CWD Project\\Ben GIS Work\\Rapp Density Oct.mxd\n",
      "./Lovely, Deer\\2011 CWD Project\\Ben GIS Work\\RappMap.mxd\n",
      "./Lovely, Deer\\2011 CWD Project\\Ben GIS Work\\Response Map.mxd\n",
      "./Lovely, Deer\\2011 CWD Project\\GIS STUFF\\Fred Map Dragon.mxd\n",
      "./Lovely, Deer\\2011 CWD Project\\GIS STUFF\\Rapp Map Dragon.mxd\n",
      "./Lovely, Deer\\GIS_Data\\Frederick County\\Additional Shapefiles\\map for poster.mxd\n",
      "./Lovely, Deer\\GIS_Data\\Frederick County\\Deer Maps\\Frederick_Map.mxd\n",
      "./Lovely, Deer\\GIS_Data\\Frederick County\\Deer Maps\\ParcelMerge.mxd\n",
      "./Lovely, Deer\\GIS_Data\\Frederick County\\Deer Maps\\section 5-10.mxd\n",
      "./Lovely, Deer\\GIS_Data\\Frederick County\\Deer Maps\\Old Maps\\Firsteffort.mxd\n",
      "./Lovely, Deer\\GIS_Data\\Frederick County\\Deer Maps\\Old Maps\\Firsteffort_Bigparcels.mxd\n",
      "./Lovely, Deer\\GIS_Data\\Frederick County\\Deer Maps\\Old Maps\\Firsteffort_selectedparcels.mxd\n",
      "./Lovely, Deer\\GIS_Data\\Rappahannock County\\Deer maps\\2009HuntingData_Parcels.mxd\n",
      "./Lovely, Deer\\GIS_Data\\Rappahannock County\\Deer maps\\Parcel_Map.mxd\n",
      "./Lovely, Deer\\GIS_Data\\Rappahannock County\\Deer maps\\roadmap.mxd\n"
     ]
    }
   ],
   "source": [
    "for root, dirs, files in os.walk('./Lovely, Deer'):\n",
    "    for f in files:\n",
    "        if \".mxd\" in f:\n",
    "            print(os.path.join(root,f))"
   ]
  },
  {
   "cell_type": "code",
   "execution_count": 29,
   "metadata": {},
   "outputs": [
    {
     "data": {
      "text/plain": [
       "['(X) Field Ecology (SI-NAS1.SMB.US.SINET.SI.EDUNZPSharedSCBI) - Shortcut.lnk',\n",
       " '.DS_Store',\n",
       " '1_Conservation Ecology Center',\n",
       " 'AreaMapTemplate_10p3.mxd',\n",
       " 'Camera_Trapping_Project_WJM_move',\n",
       " 'chinamammalbook_WJM_move',\n",
       " 'CRCLanduse_WJM_move',\n",
       " 'Deer Maps_for Bill_WJM_move',\n",
       " 'eBirdData_Amy',\n",
       " 'ERDAS License',\n",
       " 'Fang_Wang.txt',\n",
       " 'Fang_Wang_WJM_move',\n",
       " 'GIS_Data',\n",
       " 'GIS_tools',\n",
       " 'GMUProposalData',\n",
       " 'IaraSpatialLayers',\n",
       " 'Landenberger_Kota_McGraw_et_al_2006.pdf',\n",
       " 'Lovely, Deer',\n",
       " 'MapsforVWL',\n",
       " 'National_Parks_Projects',\n",
       " 'PCES.pptx',\n",
       " 'Project.csv',\n",
       " 'public-service-employment-certification-form.pdf',\n",
       " 'RADIOTRACKING',\n",
       " 'SI logos',\n",
       " 'SIGEO',\n",
       " 'SloanCreek.dbf',\n",
       " 'SloanCreek.dbf.xml',\n",
       " 'Square2.cpg',\n",
       " 'Square2.dbf',\n",
       " 'Square2.prj',\n",
       " 'Square2.shp',\n",
       " 'Square2.shx',\n",
       " 'summarize_folder.py',\n",
       " 'summarize_folder.pyc',\n",
       " 'TEMPLATE_SpatialDataRecords.xlsx',\n",
       " 'Thumbs.db',\n",
       " 'Trails_Chestnut_Study_2012.shx',\n",
       " 'Using GPS Utility to Upload UTM coordinates to Garmin Units.doc',\n",
       " 'Valentine Herrmann',\n",
       " 'VDRIVE ORGANIZATION 7-18-16.docx',\n",
       " 'WoodTurtle_SCBI',\n",
       " '__pycache__']"
      ]
     },
     "execution_count": 29,
     "metadata": {},
     "output_type": "execute_result"
    }
   ],
   "source": [
    "os.listdir('.')"
   ]
  }
 ],
 "metadata": {
  "kernelspec": {
   "display_name": "Python 2",
   "language": "python",
   "name": "python2"
  },
  "language_info": {
   "codemirror_mode": {
    "name": "ipython",
    "version": 2
   },
   "file_extension": ".py",
   "mimetype": "text/x-python",
   "name": "python",
   "nbconvert_exporter": "python",
   "pygments_lexer": "ipython2",
   "version": "2.7.15"
  }
 },
 "nbformat": 4,
 "nbformat_minor": 2
}
