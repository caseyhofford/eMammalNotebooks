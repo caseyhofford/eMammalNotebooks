{
 "cells": [
  {
   "cell_type": "code",
   "execution_count": 17,
   "metadata": {},
   "outputs": [],
   "source": [
    "import os\n",
    "import pandas\n",
    "import re\n",
    "import shutil\n",
    "\n",
    "def sort_deps(path): #verify the integrity of folders that already contain the manifest.\n",
    "    deployments = {}\n",
    "    for x in os.listdir(path):\n",
    "        os.chdir(path)\n",
    "        if os.path.isdir(x):\n",
    "            print(x)\n",
    "            try:\n",
    "                xml = open(x+'\\\\deployment_manifest.xml','r').read()\n",
    "                actualfiles = os.listdir(x)\n",
    "                sort_images(xml, x, actualfiles)\n",
    "            except:\n",
    "                xml = False\n",
    "                print(\"No deployment manifest in \"+x)\n",
    "\n",
    "def sort_images(xml, folder, actualfiles):#takes an XML string and list of filenames, moves the files to folders named by the species in them.\n",
    "    exp = re.compile(\"<Image>.*?<ImageFileName>(.*?)</ImageFileName>.*?<SpeciesScientificName>(.*?)</SpeciesScientificName>.*?</Image>\",re.DOTALL)\n",
    "    xmlfiles = exp.findall(xml)\n",
    "    for file in xmlfiles:\n",
    "        if file[0] in actualfiles:\n",
    "            if not os.path.isdir('./'+file[1]):\n",
    "                print(\"making directory\"+file[1])\n",
    "                os.mkdir('./'+file[1])\n",
    "            shutil.copyfile('./'+folder+'/'+file[0], './'+file[1]+'/'+file[0])"
   ]
  },
  {
   "cell_type": "code",
   "execution_count": 18,
   "metadata": {
    "scrolled": true
   },
   "outputs": [
    {
     "name": "stdout",
     "output_type": "stream",
     "text": [
      "C:\\Users\\HoffordC\\Documents\\China Data\\Xiaogegou\\imagefolders\n",
      "L-XHG14-AA16A\n",
      "making directoryCamera Trapper\n",
      "making directoryUnknown Squirrel\n",
      "making directoryChrysolophus pictus\n",
      "making directoryNo Animal\n",
      "making directorySus scrofa\n",
      "making directoryNaemorhedus griseus\n",
      "making directoryPrionailurus bengalensis\n",
      "making directoryUnknown Bird\n",
      "L-XHG14-AB17A\n",
      "making directoryElaphodus cephalophus\n",
      "making directoryUnknown Animal\n",
      "L-XHG14-AC19A\n",
      "making directoryUnknown Small Rodent\n",
      "making directoryMuntiacus reevesi\n",
      "making directoryBudorcas taxicolor\n",
      "L-XHG14-AC20A\n",
      "making directoryRhinopithecus roxellana\n",
      "L-XHG14-AE22A\n",
      "No deployment manifest in L-XHG14-AE22A\n",
      "L-XHG14-AE23A\n",
      "No deployment manifest in L-XHG14-AE23A\n",
      "L-XHG14-C03A\n",
      "making directoryAiluropoda melanoleuca\n",
      "making directoryIthaginis cruentus\n",
      "L-XHG14-D02A\n",
      "L-XHG14-D04A\n",
      "No deployment manifest in L-XHG14-D04A\n",
      "L-XHG14-E04A\n",
      "making directoryMartes flavigula\n",
      "L-XHG14-F06A\n",
      "making directoryMustela sibirica\n",
      "L-XHG14-F08A\n",
      "L-XHG14-G06A\n",
      "making directoryTragopan temminckii\n",
      "L-XHG14-H05A\n",
      "L-XHG14-I08A\n",
      "L-XHG14-J07A\n",
      "L-XHG14-W14A\n",
      "L-XHG14-X13A\n",
      "L-XHG14-X15A\n",
      "making directoryNucifraga caryocatactes\n",
      "making directoryHystrix brachyura\n",
      "L-XHG14-Y15A\n",
      "No deployment manifest in L-XHG14-Y15A\n",
      "L-XHG15-AA15A\n",
      "making directoryArctonyx collaris\n",
      "L-XHG15-AA17A\n",
      "L-XHG15-AB17A\n",
      "making directoryMoschus berezovskii\n",
      "L-XHG15-AB17B\n",
      "making directoryUrsus thibetanus\n",
      "L-XHG15-AB17C\n",
      "L-XHG15-AB18A\n",
      "L-XHG15-AB19A\n",
      "L-XHG15-AC19A\n",
      "L-XHG15-AC19B\n",
      "L-XHG15-AC19C\n",
      "No deployment manifest in L-XHG15-AC19C\n",
      "L-XHG15-AC22A\n",
      "L-XHG15-AD22A\n",
      "making directoryPucrasia macrolopha\n",
      "L-XHG15-AE20A\n",
      "No deployment manifest in L-XHG15-AE20A\n",
      "L-XHG15-AE24A\n",
      "L-XHG15-K10A\n",
      "L-XHG15-K12A\n",
      "L-XHG15-L12A\n",
      "making directoryBos taurus\n",
      "L-XHG15-N11A\n",
      "making directoryPaguma larvata\n",
      "making directoryZoothera mollissima\n",
      "L-XHG15-N18A\n",
      "L-XHG15-O10A\n",
      "L-XHG15-O11A\n",
      "L-XHG15-O12A\n",
      "L-XHG15-Q20A\n",
      "making directoryTamiops swinhoei\n",
      "L-XHG15-R10A\n",
      "making directoryMustela nivalis\n",
      "L-XHG15-R11A\n",
      "making directoryOchotona thibetana\n",
      "L-XHG15-R12A\n",
      "L-XHG15-R12B\n",
      "L-XHG15-R19A\n",
      "L-XHG15-S13A\n",
      "L-XHG15-S13B\n",
      "L-XHG15-S14A\n",
      "L-XHG15-T13A\n",
      "L-XHG15-T14A\n",
      "No deployment manifest in L-XHG15-T14A\n",
      "L-XHG15-T14C\n",
      "L-XHG15-U14A\n",
      "L-XHG15-U14B\n",
      "L-XHG15-U14C\n",
      "No deployment manifest in L-XHG15-U14C\n",
      "L-XHG15-U17A\n",
      "L-XHG15-V15A\n",
      "L-XHG15-V15B\n",
      "No deployment manifest in L-XHG15-V15B\n",
      "L-XHG15-V15C\n",
      "No deployment manifest in L-XHG15-V15C\n",
      "L-XHG15-V17A\n",
      "L-XHG15-V17B\n",
      "L-XHG15-V18A\n",
      "L-XHG15-W14A\n",
      "L-XHG15-W15A\n",
      "L-XHG15-X11A\n",
      "L-XHG15-X12A\n",
      "L-XHG15-X13A\n",
      "L-XHG15-X14B\n",
      "No deployment manifest in L-XHG15-X14B\n",
      "L-XHG15-X15A\n",
      "L-XHG15-X17A\n",
      "L-XHG15-X17B\n",
      "L-XHG15-Y13A\n",
      "L-XHG15-Y13B\n",
      "No deployment manifest in L-XHG15-Y13B\n",
      "L-XHG15-Y16A\n",
      "L-XHG15-Y17A\n",
      "L-XHG15-Z24A\n",
      "making directoryHomo sapiens\n",
      "L-XHG15-Z24B\n",
      "zip\n",
      "No deployment manifest in zip\n"
     ]
    }
   ],
   "source": [
    "sort_deps(input())"
   ]
  },
  {
   "cell_type": "code",
   "execution_count": 21,
   "metadata": {},
   "outputs": [
    {
     "data": {
      "text/plain": [
       "'C:\\\\Users\\\\HoffordC\\\\Documents\\\\China Data\\\\Xiaogegou\\\\imagefolders'"
      ]
     },
     "execution_count": 21,
     "metadata": {},
     "output_type": "execute_result"
    }
   ],
   "source": [
    "os.getcwd()"
   ]
  },
  {
   "cell_type": "code",
   "execution_count": 22,
   "metadata": {},
   "outputs": [],
   "source": [
    "os.chdir('./Animal/')"
   ]
  },
  {
   "cell_type": "code",
   "execution_count": null,
   "metadata": {},
   "outputs": [],
   "source": []
  },
  {
   "cell_type": "code",
   "execution_count": 23,
   "metadata": {},
   "outputs": [
    {
     "data": {
      "text/plain": [
       "'C:\\\\Users\\\\HoffordC\\\\Documents\\\\China Data\\\\Xiaogegou\\\\imagefolders\\\\Animal'"
      ]
     },
     "execution_count": 23,
     "metadata": {},
     "output_type": "execute_result"
    }
   ],
   "source": [
    "os.getcwd()"
   ]
  },
  {
   "cell_type": "code",
   "execution_count": 24,
   "metadata": {
    "collapsed": true
   },
   "outputs": [
    {
     "data": {
      "text/plain": [
       "['Ailuropoda melanoleuca',\n",
       " 'Arctonyx collaris',\n",
       " 'Bos taurus',\n",
       " 'Budorcas taxicolor',\n",
       " 'Chrysolophus pictus',\n",
       " 'Elaphodus cephalophus',\n",
       " 'Hystrix brachyura',\n",
       " 'Ithaginis cruentus',\n",
       " 'Martes flavigula',\n",
       " 'Moschus berezovskii',\n",
       " 'Muntiacus reevesi',\n",
       " 'Mustela nivalis',\n",
       " 'Mustela sibirica',\n",
       " 'Naemorhedus griseus',\n",
       " 'Nucifraga caryocatactes',\n",
       " 'Ochotona thibetana',\n",
       " 'Paguma larvata',\n",
       " 'Prionailurus bengalensis',\n",
       " 'Pucrasia macrolopha',\n",
       " 'Rhinopithecus roxellana',\n",
       " 'Sus scrofa',\n",
       " 'Tamiops swinhoei',\n",
       " 'Tragopan temminckii',\n",
       " 'Unknown Animal',\n",
       " 'Unknown Bird',\n",
       " 'Unknown Small Rodent',\n",
       " 'Unknown Squirrel',\n",
       " 'Ursus thibetanus',\n",
       " 'Zoothera mollissima']"
      ]
     },
     "execution_count": 24,
     "metadata": {},
     "output_type": "execute_result"
    }
   ],
   "source": [
    "os.listdir()"
   ]
  },
  {
   "cell_type": "code",
   "execution_count": 25,
   "metadata": {},
   "outputs": [],
   "source": [
    "os.mkdir('./Animal')"
   ]
  },
  {
   "cell_type": "code",
   "execution_count": 27,
   "metadata": {},
   "outputs": [],
   "source": [
    "for species in os.listdir():\n",
    "    for image in os.listdir(species):\n",
    "        shutil.copyfile(species+'\\\\'+image, './Animal/'+image)"
   ]
  },
  {
   "cell_type": "code",
   "execution_count": 28,
   "metadata": {},
   "outputs": [],
   "source": [
    "os.chdir('..')"
   ]
  },
  {
   "cell_type": "code",
   "execution_count": 29,
   "metadata": {},
   "outputs": [],
   "source": [
    "os.chdir('./Human')"
   ]
  },
  {
   "cell_type": "code",
   "execution_count": 30,
   "metadata": {},
   "outputs": [],
   "source": [
    "os.mkdir('./Human')"
   ]
  },
  {
   "cell_type": "code",
   "execution_count": 31,
   "metadata": {
    "scrolled": true
   },
   "outputs": [
    {
     "ename": "SameFileError",
     "evalue": "'Human\\\\L-XHG14-AA16A-0001.JPG' and './Human/L-XHG14-AA16A-0001.JPG' are the same file",
     "output_type": "error",
     "traceback": [
      "\u001b[1;31m---------------------------------------------------------------------------\u001b[0m",
      "\u001b[1;31mSameFileError\u001b[0m                             Traceback (most recent call last)",
      "\u001b[1;32m<ipython-input-31-adba38b430a5>\u001b[0m in \u001b[0;36m<module>\u001b[1;34m()\u001b[0m\n\u001b[0;32m      1\u001b[0m \u001b[1;32mfor\u001b[0m \u001b[0mspecies\u001b[0m \u001b[1;32min\u001b[0m \u001b[0mos\u001b[0m\u001b[1;33m.\u001b[0m\u001b[0mlistdir\u001b[0m\u001b[1;33m(\u001b[0m\u001b[1;33m)\u001b[0m\u001b[1;33m:\u001b[0m\u001b[1;33m\u001b[0m\u001b[0m\n\u001b[0;32m      2\u001b[0m     \u001b[1;32mfor\u001b[0m \u001b[0mimage\u001b[0m \u001b[1;32min\u001b[0m \u001b[0mos\u001b[0m\u001b[1;33m.\u001b[0m\u001b[0mlistdir\u001b[0m\u001b[1;33m(\u001b[0m\u001b[0mspecies\u001b[0m\u001b[1;33m)\u001b[0m\u001b[1;33m:\u001b[0m\u001b[1;33m\u001b[0m\u001b[0m\n\u001b[1;32m----> 3\u001b[1;33m         \u001b[0mshutil\u001b[0m\u001b[1;33m.\u001b[0m\u001b[0mcopyfile\u001b[0m\u001b[1;33m(\u001b[0m\u001b[0mspecies\u001b[0m\u001b[1;33m+\u001b[0m\u001b[1;34m'\\\\'\u001b[0m\u001b[1;33m+\u001b[0m\u001b[0mimage\u001b[0m\u001b[1;33m,\u001b[0m \u001b[1;34m'./Human/'\u001b[0m\u001b[1;33m+\u001b[0m\u001b[0mimage\u001b[0m\u001b[1;33m)\u001b[0m\u001b[1;33m\u001b[0m\u001b[0m\n\u001b[0m",
      "\u001b[1;32m~\\AppData\\Local\\Continuum\\anaconda3\\lib\\shutil.py\u001b[0m in \u001b[0;36mcopyfile\u001b[1;34m(src, dst, follow_symlinks)\u001b[0m\n\u001b[0;32m    102\u001b[0m     \"\"\"\n\u001b[0;32m    103\u001b[0m     \u001b[1;32mif\u001b[0m \u001b[0m_samefile\u001b[0m\u001b[1;33m(\u001b[0m\u001b[0msrc\u001b[0m\u001b[1;33m,\u001b[0m \u001b[0mdst\u001b[0m\u001b[1;33m)\u001b[0m\u001b[1;33m:\u001b[0m\u001b[1;33m\u001b[0m\u001b[0m\n\u001b[1;32m--> 104\u001b[1;33m         \u001b[1;32mraise\u001b[0m \u001b[0mSameFileError\u001b[0m\u001b[1;33m(\u001b[0m\u001b[1;34m\"{!r} and {!r} are the same file\"\u001b[0m\u001b[1;33m.\u001b[0m\u001b[0mformat\u001b[0m\u001b[1;33m(\u001b[0m\u001b[0msrc\u001b[0m\u001b[1;33m,\u001b[0m \u001b[0mdst\u001b[0m\u001b[1;33m)\u001b[0m\u001b[1;33m)\u001b[0m\u001b[1;33m\u001b[0m\u001b[0m\n\u001b[0m\u001b[0;32m    105\u001b[0m \u001b[1;33m\u001b[0m\u001b[0m\n\u001b[0;32m    106\u001b[0m     \u001b[1;32mfor\u001b[0m \u001b[0mfn\u001b[0m \u001b[1;32min\u001b[0m \u001b[1;33m[\u001b[0m\u001b[0msrc\u001b[0m\u001b[1;33m,\u001b[0m \u001b[0mdst\u001b[0m\u001b[1;33m]\u001b[0m\u001b[1;33m:\u001b[0m\u001b[1;33m\u001b[0m\u001b[0m\n",
      "\u001b[1;31mSameFileError\u001b[0m: 'Human\\\\L-XHG14-AA16A-0001.JPG' and './Human/L-XHG14-AA16A-0001.JPG' are the same file"
     ]
    }
   ],
   "source": [
    "for species in os.listdir():\n",
    "    for image in os.listdir(species):\n",
    "        shutil.copyfile(species+'\\\\'+image, './Human/'+image)"
   ]
  },
  {
   "cell_type": "code",
   "execution_count": 32,
   "metadata": {
    "scrolled": true
   },
   "outputs": [
    {
     "name": "stdout",
     "output_type": "stream",
     "text": [
      "C:\\Users\\HoffordC\\Documents\\China Data\\Wanglang\\tofix\n",
      "L-WL15-R16A\n",
      "making directoryNo Animal\n",
      "making directoryMustela sibirica\n",
      "making directoryTamiops swinhoei\n",
      "making directoryPaguma larvata\n",
      "making directoryUnknown Small Rodent\n",
      "making directoryElaphodus cephalophus\n",
      "making directoryMartes flavigula\n",
      "making directoryHystrix brachyura\n",
      "L-WL15-S15A\n",
      "making directoryTragopan temminckii\n",
      "L-WL16-D16A\n",
      "making directoryNaemorhedus griseus\n",
      "making directoryUnknown Bird\n",
      "making directorySus scrofa\n",
      "making directoryBos grunniens\n",
      "making directoryCrossoptilon auritum\n",
      "L-WL16-H03A\n",
      "making directoryIthaginis cruentus\n",
      "making directoryArctonyx collaris\n",
      "making directoryBos taurus\n",
      "L-WL16-J05A\n",
      "making directoryEquus caballus\n",
      "L-WL16-J08A\n",
      "making directoryBudorcas taxicolor\n",
      "making directoryPseudois nayaur\n",
      "making directoryMustela altaica\n",
      "making directoryUnknown Animal\n",
      "making directoryOchotona thibetana\n",
      "making directoryLophophorus lhuysii\n",
      "L-WL16-L11A\n",
      "making directoryAiluropoda melanoleuca\n",
      "making directoryPucrasia macrolopha\n",
      "zip\n",
      "No deployment manifest in zip\n",
      "zip_old\n",
      "No deployment manifest in zip_old\n"
     ]
    }
   ],
   "source": [
    "sort_deps(input())"
   ]
  },
  {
   "cell_type": "code",
   "execution_count": 34,
   "metadata": {},
   "outputs": [],
   "source": [
    "os.chdir('C:\\\\Users\\\\HoffordC\\\\Documents\\\\China Data\\\\Wanglang\\\\tofix\\\\Animal')"
   ]
  },
  {
   "cell_type": "code",
   "execution_count": 35,
   "metadata": {},
   "outputs": [],
   "source": [
    "os.mkdir('./Animal')"
   ]
  },
  {
   "cell_type": "code",
   "execution_count": 38,
   "metadata": {},
   "outputs": [
    {
     "name": "stdout",
     "output_type": "stream",
     "text": [
      "Animal\n",
      "Animal\n",
      "Animal\n",
      "Animal\n",
      "Animal\n",
      "Animal\n",
      "Animal\n",
      "Animal\n",
      "Animal\n",
      "Animal\n"
     ]
    }
   ],
   "source": [
    "for species in os.listdir():\n",
    "    for image in os.listdir(species):\n",
    "        try:\n",
    "            shutil.copyfile(species+'\\\\'+image, './Animal/'+image)\n",
    "        except:\n",
    "            print(species)"
   ]
  }
 ],
 "metadata": {
  "kernelspec": {
   "display_name": "Python 3",
   "language": "python",
   "name": "python3"
  },
  "language_info": {
   "codemirror_mode": {
    "name": "ipython",
    "version": 3
   },
   "file_extension": ".py",
   "mimetype": "text/x-python",
   "name": "python",
   "nbconvert_exporter": "python",
   "pygments_lexer": "ipython3",
   "version": "3.6.5"
  }
 },
 "nbformat": 4,
 "nbformat_minor": 2
}
